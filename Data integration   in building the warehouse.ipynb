{
 "cells": [
  {
   "cell_type": "code",
   "execution_count": 2,
   "metadata": {},
   "outputs": [],
   "source": [
    "# Import vital libraraie\n",
    "import pandas as pd\n",
    "import numpy as np\n",
    "import sqlite3\n"
   ]
  },
  {
   "cell_type": "code",
   "execution_count": 3,
   "metadata": {},
   "outputs": [],
   "source": [
    "#define various data sources\n",
    "crm_data_file = 'crm_data.csv'\n",
    "erp_data_file = 'erp_data.csv'\n",
    "website_data_file = 'website_data.csv'\n",
    "social_media_data_file = 'social_media_data.csv' = 'crm_data.csv'\n",
    "erp_data_file = 'erp_data.csv'\n",
    "website_data_file = 'website_data.csv'\n",
    "social_media_data_file = 'social_media_data.csv'\n"
   ]
  },
  {
   "cell_type": "code",
   "execution_count": 8,
   "metadata": {},
   "outputs": [],
   "source": [
    "# Load the data from different sources into pandas dataframes\n",
    "crm_data = pd.read_csv('crm_data.csv')\n",
    "erp_data = pd.read_csv('erp_data.csv')\n",
    "website_data = pd.read_csv('website_data.csv')\n",
    "social_media_data = pd.read_csv( 'social_media_data.csv')"
   ]
  },
  {
   "cell_type": "code",
   "execution_count": 9,
   "metadata": {},
   "outputs": [],
   "source": [
    "# Transform the data if needed"
   ]
  },
  {
   "cell_type": "code",
   "execution_count": 10,
   "metadata": {},
   "outputs": [],
   "source": [
    "#merging the dataframes\n",
    "merged =pd.merge(crm_data,erp_data ,on ='customer_id')\n",
    "merged=pd.merge(merged,website_data ,on = 'customer_id')\n",
    "merged=pd.merge(merged,socail_media ,on='customer_id')"
   ]
  },
  {
   "cell_type": "code",
   "execution_count": 11,
   "metadata": {},
   "outputs": [],
   "source": [
    "# #remove unnessary colums\n",
    "merged .drop(['customer_name','email'],axis =1 ,inplace=True)"
   ]
  },
  {
   "cell_type": "code",
   "execution_count": 12,
   "metadata": {},
   "outputs": [],
   "source": [
    "#laod the data into a sqllite database\n",
    "table_name ='sale_data'\n",
    "merged.to_sql(table_name,connection ,if_exist='replace',index=False)\n"
   ]
  },
  {
   "cell_type": "code",
   "execution_count": 14,
   "metadata": {},
   "outputs": [],
   "source": [
    "#close the database connection\n",
    "connection .close()"
   ]
  },
  {
   "cell_type": "markdown",
   "metadata": {},
   "source": [
    "At this point the data from various sources is cleaned and stired in the DB"
   ]
  },
  {
   "cell_type": "code",
   "execution_count": null,
   "metadata": {},
   "outputs": [],
   "source": []
  }
 ],
 "metadata": {
  "kernelspec": {
   "display_name": "Python 3 (ipykernel)",
   "language": "python",
   "name": "python3"
  },
  "language_info": {
   "codemirror_mode": {
    "name": "ipython",
    "version": 3
   },
   "file_extension": ".py",
   "mimetype": "text/x-python",
   "name": "python",
   "nbconvert_exporter": "python",
   "pygments_lexer": "ipython3",
   "version": "3.7.6"
  }
 },
 "nbformat": 4,
 "nbformat_minor": 4
}
